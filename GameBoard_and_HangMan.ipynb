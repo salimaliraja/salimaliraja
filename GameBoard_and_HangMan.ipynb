{
  "cells": [
    {
      "cell_type": "markdown",
      "metadata": {
        "id": "view-in-github",
        "colab_type": "text"
      },
      "source": [
        "<a href=\"https://colab.research.google.com/github/salimaliraja/salimaliraja/blob/main/GameBoard_and_HangMan.ipynb\" target=\"_parent\"><img src=\"https://colab.research.google.com/assets/colab-badge.svg\" alt=\"Open In Colab\"/></a>"
      ]
    },
    {
      "cell_type": "code",
      "execution_count": 1,
      "metadata": {
        "id": "VXlXluDqbd1z"
      },
      "outputs": [],
      "source": [
        "# Step 1: Represent the Game Board\n",
        "def create_board():\n",
        "    return [[' ' for _ in range(3)] for _ in range(3)]\n",
        "\n",
        "# Step 2: Display the Game Board\n",
        "def display_board(board):\n",
        "    print(\"  0   1   2\")\n",
        "    for i, row in enumerate(board):\n",
        "        print(f\"{i} \" + \" | \".join(row))\n",
        "        if i < 2:\n",
        "            print(\"  ---------\")\n",
        "\n"
      ]
    },
    {
      "cell_type": "code",
      "execution_count": 2,
      "metadata": {
        "id": "1J9XZKm6btPe"
      },
      "outputs": [],
      "source": [
        "# Step 3: Getting Player Input\n",
        "def player_input(board, player):\n",
        "    while True:\n",
        "        try:\n",
        "            row = int(input(f\"Player {player}, enter row (0, 1, 2): \"))\n",
        "            col = int(input(f\"Player {player}, enter column (0, 1, 2): \"))\n",
        "            if row not in range(3) or col not in range(3):\n",
        "                print(\"Invalid position. Please enter numbers between 0 and 2.\")\n",
        "            elif board[row][col] != ' ':\n",
        "                print(\"That position is already taken. Try again.\")\n",
        "            else:\n",
        "                return row, col\n",
        "        except ValueError:\n",
        "            print(\"Invalid input. Please enter numeric values.\")\n",
        "\n",
        "# Step 4: Check for Winner\n",
        "def check_win(board, player):\n",
        "    # Check rows and columns\n",
        "    for i in range(3):\n",
        "        if all(board[i][j] == player for j in range(3)):  # Row check\n",
        "            return True\n",
        "        if all(board[j][i] == player for j in range(3)):  # Column check\n",
        "            return True\n",
        "    # Check diagonals\n",
        "    if all(board[i][i] == player for i in range(3)):  # Main diagonal\n",
        "        return True\n",
        "    if all(board[i][2 - i] == player for i in range(3)):  # Anti-diagonal\n",
        "        return True\n",
        "    return False\n",
        "\n"
      ]
    },
    {
      "cell_type": "code",
      "execution_count": null,
      "metadata": {
        "colab": {
          "base_uri": "https://localhost:8080/"
        },
        "id": "h8w6sXk5b9Xj",
        "outputId": "547197d8-2099-410c-8564-dc88092c5a2c"
      },
      "outputs": [
        {
          "output_type": "stream",
          "name": "stdout",
          "text": [
            "  0   1   2\n",
            "0   |   |  \n",
            "  ---------\n",
            "1   |   |  \n",
            "  ---------\n",
            "2   |   |  \n"
          ]
        }
      ],
      "source": [
        "# Step 5: Check for Tie\n",
        "def check_tie(board):\n",
        "    return all(cell != ' ' for row in board for cell in row)\n",
        "\n",
        "# Step 6: Main Game Loop\n",
        "def play():\n",
        "    board = create_board()\n",
        "    current_player = 'X'\n",
        "\n",
        "    while True:\n",
        "        display_board(board)\n",
        "        row, col = player_input(board, current_player)\n",
        "        board[row][col] = current_player\n",
        "\n",
        "        if check_win(board, current_player):\n",
        "            display_board(board)\n",
        "            print(f\"Player {current_player} wins!\")\n",
        "            break\n",
        "\n",
        "        if check_tie(board):\n",
        "            display_board(board)\n",
        "            print(\"It's a tie!\")\n",
        "            break\n",
        "\n",
        "        # Switch player\n",
        "        current_player = 'O' if current_player == 'X' else 'X'\n",
        "\n",
        "# Run the game\n",
        "if __name__ == \"__main__\":\n",
        "    play()"
      ]
    },
    {
      "cell_type": "code",
      "source": [
        "#HANGMAN\n",
        "#The computer choose a random word and mark stars for each letter of each word.\n",
        "#Then the player will guess a letter.\n",
        "#If that letter is in the word(s) then the computer fills the letter in all the correct positions of the word.\n",
        "#If the letter isn’t in the word(s) then add a body part to the gallows (head, body, left arm, right arm, left leg, right leg).\n",
        "#The player will continue guessing letters until they can either solve the word(s) (or phrase) or all six body parts are on the gallows.\n",
        "#The player can’t guess the same letter twice.\n",
        "\n",
        "\n",
        "\n",
        "#Random word from a list\n",
        "#Display * for each letter initially\n",
        "#Player guesses one letter at a time\n",
        "#Reveals letters in correct positions\n",
        "#Tracks incorrect guesses and \"body parts\"\n",
        "#Disallows repeated guesses\n",
        "#Ends after 6 wrong guesses or full word revealed\n",
        "\n",
        "\n",
        "import random\n",
        "\n",
        "def hangman():\n",
        "    word_list = [\"python\", \"hangman\", \"challenge\", \"programming\", \"developer\"]\n",
        "    chosen_word = random.choice(word_list).lower()\n",
        "    guessed_letters = set()\n",
        "    correct_letters = set(chosen_word)\n",
        "    display = [\"*\" for _ in chosen_word]\n",
        "    lives = 6\n",
        "    body_parts = [\"head\", \"body\", \"left arm\", \"right arm\", \"left leg\", \"right leg\"]\n",
        "\n",
        "    print(\"Welcome to Hangman!\")\n",
        "    print(\"The word has\", len(chosen_word), \"letters:\", \" \".join(display))\n",
        "\n",
        "    while lives > 0 and set(display) != correct_letters:\n",
        "        guess = input(\"Guess a letter: \").lower()\n",
        "\n",
        "        # Check if input is a single alphabet\n",
        "        if len(guess) != 1 or not guess.isalpha():\n",
        "            print(\"Please enter a single alphabetical character.\")\n",
        "            continue\n",
        "\n",
        "        # Already guessed?\n",
        "        if guess in guessed_letters:\n",
        "            print(\"You already guessed that letter.\")\n",
        "            continue\n",
        "\n",
        "        guessed_letters.add(guess)\n",
        "\n",
        "        if guess in correct_letters:\n",
        "            for idx, letter in enumerate(chosen_word):\n",
        "                if letter == guess:\n",
        "                    display[idx] = guess\n",
        "            print(\"Good guess! Word now:\", \" \".join(display))\n",
        "        else:\n",
        "            lives -= 1\n",
        "            print(f\"Wrong guess! You lost a {body_parts[6 - lives - 1]}.\")\n",
        "            print(f\"Lives remaining: {lives}\")\n",
        "            print(\"Word:\", \" \".join(display))\n",
        "\n",
        "        print(\"Guessed letters so far:\", \" \".join(sorted(guessed_letters)))\n",
        "        print()\n",
        "\n",
        "    if \"*\" not in display:\n",
        "        print(\"🎉 Congratulations! You guessed the word:\", chosen_word)\n",
        "    else:\n",
        "        print(\"💀 Game over! The word was:\", chosen_word)\n",
        "\n",
        "\n",
        "hangman()\n",
        "\n",
        "\n"
      ],
      "metadata": {
        "colab": {
          "base_uri": "https://localhost:8080/"
        },
        "id": "iP5bNFTKsIxd",
        "outputId": "a3601f23-2484-43fc-82a2-75b659c12eb6"
      },
      "execution_count": null,
      "outputs": [
        {
          "output_type": "stream",
          "name": "stdout",
          "text": [
            "Welcome to Hangman!\n",
            "The word has 9 letters: * * * * * * * * *\n",
            "Guess a letter: b\n",
            "Wrong guess! You lost a head.\n",
            "Lives remaining: 5\n",
            "Word: * * * * * * * * *\n",
            "Guessed letters so far: b\n",
            "\n",
            "Guess a letter: k\n",
            "Wrong guess! You lost a body.\n",
            "Lives remaining: 4\n",
            "Word: * * * * * * * * *\n",
            "Guessed letters so far: b k\n",
            "\n"
          ]
        }
      ]
    }
  ],
  "metadata": {
    "colab": {
      "provenance": [],
      "authorship_tag": "ABX9TyMVSn3yS1YIHIVHEmhzFR3V",
      "include_colab_link": true
    },
    "kernelspec": {
      "display_name": "Python 3",
      "name": "python3"
    },
    "language_info": {
      "name": "python"
    }
  },
  "nbformat": 4,
  "nbformat_minor": 0
}